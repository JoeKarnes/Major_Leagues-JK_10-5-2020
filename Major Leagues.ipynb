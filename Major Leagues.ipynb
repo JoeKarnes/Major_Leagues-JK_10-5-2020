{
 "cells": [
  {
   "cell_type": "markdown",
   "metadata": {},
   "source": [
    "This project will be taking a look into Fivethirtyeight's NFL Elo score dataset from https://github.com/fivethirtyeight/nfl-elo-game. The primary goal is to train one or two models for this project that will forcast the team scores in each game. The models planned for this project will be the random forest regression model and the gradient boost model. The feature engineering will primarily focus on linking the scores to the games played. Onehot encoding was also explored for the team names, but the team names were found not to have much significance.\n",
    "\n",
    "Another feature that was planned, but not implemented due to limited time and inexperience was a column that would note the game number in each season. This feature could have been useful as it could have assisted with the association of each team with the game year and time that the game occured."
   ]
  },
  {
   "cell_type": "code",
   "execution_count": 68,
   "metadata": {},
   "outputs": [],
   "source": [
    "import numpy as np\n",
    "import pandas as pd\n",
    "from matplotlib import pyplot as plt\n",
    "from sklearn.model_selection import train_test_split\n",
    "from sklearn.ensemble import RandomForestRegressor, GradientBoostingRegressor\n",
    "from sklearn.metrics import r2_score, mean_squared_error\n",
    "\n"
   ]
  },
  {
   "cell_type": "code",
   "execution_count": 69,
   "metadata": {},
   "outputs": [
    {
     "data": {
      "text/html": [
       "<div>\n",
       "<style scoped>\n",
       "    .dataframe tbody tr th:only-of-type {\n",
       "        vertical-align: middle;\n",
       "    }\n",
       "\n",
       "    .dataframe tbody tr th {\n",
       "        vertical-align: top;\n",
       "    }\n",
       "\n",
       "    .dataframe thead th {\n",
       "        text-align: right;\n",
       "    }\n",
       "</style>\n",
       "<table border=\"1\" class=\"dataframe\">\n",
       "  <thead>\n",
       "    <tr style=\"text-align: right;\">\n",
       "      <th></th>\n",
       "      <th>date</th>\n",
       "      <th>season</th>\n",
       "      <th>neutral</th>\n",
       "      <th>playoff</th>\n",
       "      <th>team1</th>\n",
       "      <th>team2</th>\n",
       "      <th>elo1</th>\n",
       "      <th>elo2</th>\n",
       "      <th>elo_prob1</th>\n",
       "      <th>score1</th>\n",
       "      <th>score2</th>\n",
       "      <th>result1</th>\n",
       "      <th>score_diff</th>\n",
       "    </tr>\n",
       "  </thead>\n",
       "  <tbody>\n",
       "    <tr>\n",
       "      <th>0</th>\n",
       "      <td>1920-09-26</td>\n",
       "      <td>1920</td>\n",
       "      <td>0</td>\n",
       "      <td>0</td>\n",
       "      <td>RII</td>\n",
       "      <td>STP</td>\n",
       "      <td>1503.947000</td>\n",
       "      <td>1300.000000</td>\n",
       "      <td>0.824651</td>\n",
       "      <td>48</td>\n",
       "      <td>0</td>\n",
       "      <td>1.0</td>\n",
       "      <td>48</td>\n",
       "    </tr>\n",
       "    <tr>\n",
       "      <th>1</th>\n",
       "      <td>1920-10-03</td>\n",
       "      <td>1920</td>\n",
       "      <td>0</td>\n",
       "      <td>0</td>\n",
       "      <td>AKR</td>\n",
       "      <td>WHE</td>\n",
       "      <td>1503.420000</td>\n",
       "      <td>1300.000000</td>\n",
       "      <td>0.824212</td>\n",
       "      <td>43</td>\n",
       "      <td>0</td>\n",
       "      <td>1.0</td>\n",
       "      <td>43</td>\n",
       "    </tr>\n",
       "    <tr>\n",
       "      <th>2</th>\n",
       "      <td>1920-10-03</td>\n",
       "      <td>1920</td>\n",
       "      <td>0</td>\n",
       "      <td>0</td>\n",
       "      <td>RCH</td>\n",
       "      <td>ABU</td>\n",
       "      <td>1503.420000</td>\n",
       "      <td>1300.000000</td>\n",
       "      <td>0.824212</td>\n",
       "      <td>10</td>\n",
       "      <td>0</td>\n",
       "      <td>1.0</td>\n",
       "      <td>10</td>\n",
       "    </tr>\n",
       "    <tr>\n",
       "      <th>3</th>\n",
       "      <td>1920-10-03</td>\n",
       "      <td>1920</td>\n",
       "      <td>0</td>\n",
       "      <td>0</td>\n",
       "      <td>DAY</td>\n",
       "      <td>COL</td>\n",
       "      <td>1493.002000</td>\n",
       "      <td>1504.908000</td>\n",
       "      <td>0.575819</td>\n",
       "      <td>14</td>\n",
       "      <td>0</td>\n",
       "      <td>1.0</td>\n",
       "      <td>14</td>\n",
       "    </tr>\n",
       "    <tr>\n",
       "      <th>4</th>\n",
       "      <td>1920-10-03</td>\n",
       "      <td>1920</td>\n",
       "      <td>0</td>\n",
       "      <td>0</td>\n",
       "      <td>RII</td>\n",
       "      <td>MUN</td>\n",
       "      <td>1516.108000</td>\n",
       "      <td>1478.004000</td>\n",
       "      <td>0.644171</td>\n",
       "      <td>45</td>\n",
       "      <td>0</td>\n",
       "      <td>1.0</td>\n",
       "      <td>45</td>\n",
       "    </tr>\n",
       "    <tr>\n",
       "      <th>...</th>\n",
       "      <td>...</td>\n",
       "      <td>...</td>\n",
       "      <td>...</td>\n",
       "      <td>...</td>\n",
       "      <td>...</td>\n",
       "      <td>...</td>\n",
       "      <td>...</td>\n",
       "      <td>...</td>\n",
       "      <td>...</td>\n",
       "      <td>...</td>\n",
       "      <td>...</td>\n",
       "      <td>...</td>\n",
       "      <td>...</td>\n",
       "    </tr>\n",
       "    <tr>\n",
       "      <th>16269</th>\n",
       "      <td>2019-01-13</td>\n",
       "      <td>2018</td>\n",
       "      <td>0</td>\n",
       "      <td>1</td>\n",
       "      <td>NE</td>\n",
       "      <td>LAC</td>\n",
       "      <td>1640.171960</td>\n",
       "      <td>1647.624483</td>\n",
       "      <td>0.582068</td>\n",
       "      <td>41</td>\n",
       "      <td>28</td>\n",
       "      <td>1.0</td>\n",
       "      <td>13</td>\n",
       "    </tr>\n",
       "    <tr>\n",
       "      <th>16270</th>\n",
       "      <td>2019-01-13</td>\n",
       "      <td>2018</td>\n",
       "      <td>0</td>\n",
       "      <td>1</td>\n",
       "      <td>NO</td>\n",
       "      <td>PHI</td>\n",
       "      <td>1669.105861</td>\n",
       "      <td>1633.114673</td>\n",
       "      <td>0.641378</td>\n",
       "      <td>20</td>\n",
       "      <td>14</td>\n",
       "      <td>1.0</td>\n",
       "      <td>6</td>\n",
       "    </tr>\n",
       "    <tr>\n",
       "      <th>16271</th>\n",
       "      <td>2019-01-20</td>\n",
       "      <td>2018</td>\n",
       "      <td>0</td>\n",
       "      <td>1</td>\n",
       "      <td>NO</td>\n",
       "      <td>LAR</td>\n",
       "      <td>1682.450194</td>\n",
       "      <td>1648.424105</td>\n",
       "      <td>0.638772</td>\n",
       "      <td>23</td>\n",
       "      <td>26</td>\n",
       "      <td>0.0</td>\n",
       "      <td>3</td>\n",
       "    </tr>\n",
       "    <tr>\n",
       "      <th>16272</th>\n",
       "      <td>2019-01-20</td>\n",
       "      <td>2018</td>\n",
       "      <td>0</td>\n",
       "      <td>1</td>\n",
       "      <td>KC</td>\n",
       "      <td>NE</td>\n",
       "      <td>1675.286412</td>\n",
       "      <td>1661.668566</td>\n",
       "      <td>0.611248</td>\n",
       "      <td>31</td>\n",
       "      <td>37</td>\n",
       "      <td>0.0</td>\n",
       "      <td>6</td>\n",
       "    </tr>\n",
       "    <tr>\n",
       "      <th>16273</th>\n",
       "      <td>2019-02-03</td>\n",
       "      <td>2018</td>\n",
       "      <td>1</td>\n",
       "      <td>1</td>\n",
       "      <td>LAR</td>\n",
       "      <td>NE</td>\n",
       "      <td>1666.969395</td>\n",
       "      <td>1686.338837</td>\n",
       "      <td>0.472154</td>\n",
       "      <td>3</td>\n",
       "      <td>13</td>\n",
       "      <td>0.0</td>\n",
       "      <td>10</td>\n",
       "    </tr>\n",
       "  </tbody>\n",
       "</table>\n",
       "<p>16274 rows × 13 columns</p>\n",
       "</div>"
      ],
      "text/plain": [
       "             date  season  neutral  playoff team1 team2         elo1  \\\n",
       "0      1920-09-26    1920        0        0   RII   STP  1503.947000   \n",
       "1      1920-10-03    1920        0        0   AKR   WHE  1503.420000   \n",
       "2      1920-10-03    1920        0        0   RCH   ABU  1503.420000   \n",
       "3      1920-10-03    1920        0        0   DAY   COL  1493.002000   \n",
       "4      1920-10-03    1920        0        0   RII   MUN  1516.108000   \n",
       "...           ...     ...      ...      ...   ...   ...          ...   \n",
       "16269  2019-01-13    2018        0        1    NE   LAC  1640.171960   \n",
       "16270  2019-01-13    2018        0        1    NO   PHI  1669.105861   \n",
       "16271  2019-01-20    2018        0        1    NO   LAR  1682.450194   \n",
       "16272  2019-01-20    2018        0        1    KC    NE  1675.286412   \n",
       "16273  2019-02-03    2018        1        1   LAR    NE  1666.969395   \n",
       "\n",
       "              elo2  elo_prob1  score1  score2  result1  score_diff  \n",
       "0      1300.000000   0.824651      48       0      1.0          48  \n",
       "1      1300.000000   0.824212      43       0      1.0          43  \n",
       "2      1300.000000   0.824212      10       0      1.0          10  \n",
       "3      1504.908000   0.575819      14       0      1.0          14  \n",
       "4      1478.004000   0.644171      45       0      1.0          45  \n",
       "...            ...        ...     ...     ...      ...         ...  \n",
       "16269  1647.624483   0.582068      41      28      1.0          13  \n",
       "16270  1633.114673   0.641378      20      14      1.0           6  \n",
       "16271  1648.424105   0.638772      23      26      0.0           3  \n",
       "16272  1661.668566   0.611248      31      37      0.0           6  \n",
       "16273  1686.338837   0.472154       3      13      0.0          10  \n",
       "\n",
       "[16274 rows x 13 columns]"
      ]
     },
     "execution_count": 69,
     "metadata": {},
     "output_type": "execute_result"
    }
   ],
   "source": [
    "df = pd.read_csv(r'nfl-elo-game-master/data/nfl_games.csv')\n",
    "\n",
    "#A good feature to include in this dataset would likely be the difference in score between the two teams, as it could give a very good idea on how far apart the predicted scores should be.\n",
    "df['score_diff'] = df['score1']-df['score2']\n",
    "df['score_diff'] = df['score_diff'].abs()\n",
    "\n",
    "df"
   ]
  },
  {
   "cell_type": "code",
   "execution_count": 70,
   "metadata": {},
   "outputs": [
    {
     "data": {
      "text/plain": [
       "date           object\n",
       "season          int64\n",
       "neutral         int64\n",
       "playoff         int64\n",
       "team1          object\n",
       "team2          object\n",
       "elo1          float64\n",
       "elo2          float64\n",
       "elo_prob1     float64\n",
       "score1          int64\n",
       "score2          int64\n",
       "result1       float64\n",
       "score_diff      int64\n",
       "dtype: object"
      ]
     },
     "execution_count": 70,
     "metadata": {},
     "output_type": "execute_result"
    }
   ],
   "source": [
    "#df['team1'].unique()\n",
    "#df['season'] = df['season'].astype(str)\n",
    "df.dtypes"
   ]
  },
  {
   "cell_type": "code",
   "execution_count": 71,
   "metadata": {},
   "outputs": [],
   "source": [
    "#Game number made in this cell\n",
    "#date_list = df['date'].unique().tolist()\n",
    "# season_list = df['season'].unique().tolist()\n",
    "\n",
    "# for season in season_list:\n",
    "#     season_check = df['season'].str.contains(season, regex=False)\n",
    "#     season_rows = df.loc[season_check == True]\n",
    "#     season_rows = season_rows.reset_index\n",
    "#     df['game_number'] = 0\n",
    "#     df['game_number'] = season_rows.index+1"
   ]
  },
  {
   "cell_type": "code",
   "execution_count": 72,
   "metadata": {},
   "outputs": [
    {
     "data": {
      "text/html": [
       "<div>\n",
       "<style scoped>\n",
       "    .dataframe tbody tr th:only-of-type {\n",
       "        vertical-align: middle;\n",
       "    }\n",
       "\n",
       "    .dataframe tbody tr th {\n",
       "        vertical-align: top;\n",
       "    }\n",
       "\n",
       "    .dataframe thead th {\n",
       "        text-align: right;\n",
       "    }\n",
       "</style>\n",
       "<table border=\"1\" class=\"dataframe\">\n",
       "  <thead>\n",
       "    <tr style=\"text-align: right;\">\n",
       "      <th></th>\n",
       "      <th>season</th>\n",
       "      <th>neutral</th>\n",
       "      <th>playoff</th>\n",
       "      <th>elo1</th>\n",
       "      <th>elo2</th>\n",
       "      <th>elo_prob1</th>\n",
       "      <th>score1</th>\n",
       "      <th>score2</th>\n",
       "      <th>result1</th>\n",
       "      <th>score_diff</th>\n",
       "    </tr>\n",
       "  </thead>\n",
       "  <tbody>\n",
       "    <tr>\n",
       "      <th>0</th>\n",
       "      <td>1920</td>\n",
       "      <td>0</td>\n",
       "      <td>0</td>\n",
       "      <td>1503.947000</td>\n",
       "      <td>1300.000000</td>\n",
       "      <td>0.824651</td>\n",
       "      <td>48</td>\n",
       "      <td>0</td>\n",
       "      <td>1.0</td>\n",
       "      <td>48</td>\n",
       "    </tr>\n",
       "    <tr>\n",
       "      <th>1</th>\n",
       "      <td>1920</td>\n",
       "      <td>0</td>\n",
       "      <td>0</td>\n",
       "      <td>1503.420000</td>\n",
       "      <td>1300.000000</td>\n",
       "      <td>0.824212</td>\n",
       "      <td>43</td>\n",
       "      <td>0</td>\n",
       "      <td>1.0</td>\n",
       "      <td>43</td>\n",
       "    </tr>\n",
       "    <tr>\n",
       "      <th>2</th>\n",
       "      <td>1920</td>\n",
       "      <td>0</td>\n",
       "      <td>0</td>\n",
       "      <td>1503.420000</td>\n",
       "      <td>1300.000000</td>\n",
       "      <td>0.824212</td>\n",
       "      <td>10</td>\n",
       "      <td>0</td>\n",
       "      <td>1.0</td>\n",
       "      <td>10</td>\n",
       "    </tr>\n",
       "    <tr>\n",
       "      <th>3</th>\n",
       "      <td>1920</td>\n",
       "      <td>0</td>\n",
       "      <td>0</td>\n",
       "      <td>1493.002000</td>\n",
       "      <td>1504.908000</td>\n",
       "      <td>0.575819</td>\n",
       "      <td>14</td>\n",
       "      <td>0</td>\n",
       "      <td>1.0</td>\n",
       "      <td>14</td>\n",
       "    </tr>\n",
       "    <tr>\n",
       "      <th>4</th>\n",
       "      <td>1920</td>\n",
       "      <td>0</td>\n",
       "      <td>0</td>\n",
       "      <td>1516.108000</td>\n",
       "      <td>1478.004000</td>\n",
       "      <td>0.644171</td>\n",
       "      <td>45</td>\n",
       "      <td>0</td>\n",
       "      <td>1.0</td>\n",
       "      <td>45</td>\n",
       "    </tr>\n",
       "    <tr>\n",
       "      <th>...</th>\n",
       "      <td>...</td>\n",
       "      <td>...</td>\n",
       "      <td>...</td>\n",
       "      <td>...</td>\n",
       "      <td>...</td>\n",
       "      <td>...</td>\n",
       "      <td>...</td>\n",
       "      <td>...</td>\n",
       "      <td>...</td>\n",
       "      <td>...</td>\n",
       "    </tr>\n",
       "    <tr>\n",
       "      <th>16269</th>\n",
       "      <td>2018</td>\n",
       "      <td>0</td>\n",
       "      <td>1</td>\n",
       "      <td>1640.171960</td>\n",
       "      <td>1647.624483</td>\n",
       "      <td>0.582068</td>\n",
       "      <td>41</td>\n",
       "      <td>28</td>\n",
       "      <td>1.0</td>\n",
       "      <td>13</td>\n",
       "    </tr>\n",
       "    <tr>\n",
       "      <th>16270</th>\n",
       "      <td>2018</td>\n",
       "      <td>0</td>\n",
       "      <td>1</td>\n",
       "      <td>1669.105861</td>\n",
       "      <td>1633.114673</td>\n",
       "      <td>0.641378</td>\n",
       "      <td>20</td>\n",
       "      <td>14</td>\n",
       "      <td>1.0</td>\n",
       "      <td>6</td>\n",
       "    </tr>\n",
       "    <tr>\n",
       "      <th>16271</th>\n",
       "      <td>2018</td>\n",
       "      <td>0</td>\n",
       "      <td>1</td>\n",
       "      <td>1682.450194</td>\n",
       "      <td>1648.424105</td>\n",
       "      <td>0.638772</td>\n",
       "      <td>23</td>\n",
       "      <td>26</td>\n",
       "      <td>0.0</td>\n",
       "      <td>3</td>\n",
       "    </tr>\n",
       "    <tr>\n",
       "      <th>16272</th>\n",
       "      <td>2018</td>\n",
       "      <td>0</td>\n",
       "      <td>1</td>\n",
       "      <td>1675.286412</td>\n",
       "      <td>1661.668566</td>\n",
       "      <td>0.611248</td>\n",
       "      <td>31</td>\n",
       "      <td>37</td>\n",
       "      <td>0.0</td>\n",
       "      <td>6</td>\n",
       "    </tr>\n",
       "    <tr>\n",
       "      <th>16273</th>\n",
       "      <td>2018</td>\n",
       "      <td>1</td>\n",
       "      <td>1</td>\n",
       "      <td>1666.969395</td>\n",
       "      <td>1686.338837</td>\n",
       "      <td>0.472154</td>\n",
       "      <td>3</td>\n",
       "      <td>13</td>\n",
       "      <td>0.0</td>\n",
       "      <td>10</td>\n",
       "    </tr>\n",
       "  </tbody>\n",
       "</table>\n",
       "<p>16274 rows × 10 columns</p>\n",
       "</div>"
      ],
      "text/plain": [
       "       season  neutral  playoff         elo1         elo2  elo_prob1  score1  \\\n",
       "0        1920        0        0  1503.947000  1300.000000   0.824651      48   \n",
       "1        1920        0        0  1503.420000  1300.000000   0.824212      43   \n",
       "2        1920        0        0  1503.420000  1300.000000   0.824212      10   \n",
       "3        1920        0        0  1493.002000  1504.908000   0.575819      14   \n",
       "4        1920        0        0  1516.108000  1478.004000   0.644171      45   \n",
       "...       ...      ...      ...          ...          ...        ...     ...   \n",
       "16269    2018        0        1  1640.171960  1647.624483   0.582068      41   \n",
       "16270    2018        0        1  1669.105861  1633.114673   0.641378      20   \n",
       "16271    2018        0        1  1682.450194  1648.424105   0.638772      23   \n",
       "16272    2018        0        1  1675.286412  1661.668566   0.611248      31   \n",
       "16273    2018        1        1  1666.969395  1686.338837   0.472154       3   \n",
       "\n",
       "       score2  result1  score_diff  \n",
       "0           0      1.0          48  \n",
       "1           0      1.0          43  \n",
       "2           0      1.0          10  \n",
       "3           0      1.0          14  \n",
       "4           0      1.0          45  \n",
       "...       ...      ...         ...  \n",
       "16269      28      1.0          13  \n",
       "16270      14      1.0           6  \n",
       "16271      26      0.0           3  \n",
       "16272      37      0.0           6  \n",
       "16273      13      0.0          10  \n",
       "\n",
       "[16274 rows x 10 columns]"
      ]
     },
     "execution_count": 72,
     "metadata": {},
     "output_type": "execute_result"
    }
   ],
   "source": [
    "df_noteams = df.drop(['date', 'team1', 'team2'], axis = 1)\n",
    "df_noteams"
   ]
  },
  {
   "cell_type": "code",
   "execution_count": 73,
   "metadata": {
    "scrolled": false
   },
   "outputs": [
    {
     "data": {
      "text/html": [
       "<div>\n",
       "<style scoped>\n",
       "    .dataframe tbody tr th:only-of-type {\n",
       "        vertical-align: middle;\n",
       "    }\n",
       "\n",
       "    .dataframe tbody tr th {\n",
       "        vertical-align: top;\n",
       "    }\n",
       "\n",
       "    .dataframe thead th {\n",
       "        text-align: right;\n",
       "    }\n",
       "</style>\n",
       "<table border=\"1\" class=\"dataframe\">\n",
       "  <thead>\n",
       "    <tr style=\"text-align: right;\">\n",
       "      <th></th>\n",
       "      <th>season</th>\n",
       "      <th>neutral</th>\n",
       "      <th>playoff</th>\n",
       "      <th>elo1</th>\n",
       "      <th>elo2</th>\n",
       "      <th>elo_prob1</th>\n",
       "      <th>score1</th>\n",
       "      <th>score2</th>\n",
       "      <th>result1</th>\n",
       "      <th>score_diff</th>\n",
       "      <th>...</th>\n",
       "      <th>team2_THO</th>\n",
       "      <th>team2_TLM</th>\n",
       "      <th>team2_TOL</th>\n",
       "      <th>team2_TON</th>\n",
       "      <th>team2_TOR</th>\n",
       "      <th>team2_UTI</th>\n",
       "      <th>team2_WBU</th>\n",
       "      <th>team2_WHE</th>\n",
       "      <th>team2_WJA</th>\n",
       "      <th>team2_WSH</th>\n",
       "    </tr>\n",
       "  </thead>\n",
       "  <tbody>\n",
       "    <tr>\n",
       "      <th>0</th>\n",
       "      <td>1920</td>\n",
       "      <td>0</td>\n",
       "      <td>0</td>\n",
       "      <td>1503.947000</td>\n",
       "      <td>1300.000000</td>\n",
       "      <td>0.824651</td>\n",
       "      <td>48</td>\n",
       "      <td>0</td>\n",
       "      <td>1.0</td>\n",
       "      <td>48</td>\n",
       "      <td>...</td>\n",
       "      <td>0</td>\n",
       "      <td>0</td>\n",
       "      <td>0</td>\n",
       "      <td>0</td>\n",
       "      <td>0</td>\n",
       "      <td>0</td>\n",
       "      <td>0</td>\n",
       "      <td>0</td>\n",
       "      <td>0</td>\n",
       "      <td>0</td>\n",
       "    </tr>\n",
       "    <tr>\n",
       "      <th>1</th>\n",
       "      <td>1920</td>\n",
       "      <td>0</td>\n",
       "      <td>0</td>\n",
       "      <td>1503.420000</td>\n",
       "      <td>1300.000000</td>\n",
       "      <td>0.824212</td>\n",
       "      <td>43</td>\n",
       "      <td>0</td>\n",
       "      <td>1.0</td>\n",
       "      <td>43</td>\n",
       "      <td>...</td>\n",
       "      <td>0</td>\n",
       "      <td>0</td>\n",
       "      <td>0</td>\n",
       "      <td>0</td>\n",
       "      <td>0</td>\n",
       "      <td>0</td>\n",
       "      <td>0</td>\n",
       "      <td>1</td>\n",
       "      <td>0</td>\n",
       "      <td>0</td>\n",
       "    </tr>\n",
       "    <tr>\n",
       "      <th>2</th>\n",
       "      <td>1920</td>\n",
       "      <td>0</td>\n",
       "      <td>0</td>\n",
       "      <td>1503.420000</td>\n",
       "      <td>1300.000000</td>\n",
       "      <td>0.824212</td>\n",
       "      <td>10</td>\n",
       "      <td>0</td>\n",
       "      <td>1.0</td>\n",
       "      <td>10</td>\n",
       "      <td>...</td>\n",
       "      <td>0</td>\n",
       "      <td>0</td>\n",
       "      <td>0</td>\n",
       "      <td>0</td>\n",
       "      <td>0</td>\n",
       "      <td>0</td>\n",
       "      <td>0</td>\n",
       "      <td>0</td>\n",
       "      <td>0</td>\n",
       "      <td>0</td>\n",
       "    </tr>\n",
       "    <tr>\n",
       "      <th>3</th>\n",
       "      <td>1920</td>\n",
       "      <td>0</td>\n",
       "      <td>0</td>\n",
       "      <td>1493.002000</td>\n",
       "      <td>1504.908000</td>\n",
       "      <td>0.575819</td>\n",
       "      <td>14</td>\n",
       "      <td>0</td>\n",
       "      <td>1.0</td>\n",
       "      <td>14</td>\n",
       "      <td>...</td>\n",
       "      <td>0</td>\n",
       "      <td>0</td>\n",
       "      <td>0</td>\n",
       "      <td>0</td>\n",
       "      <td>0</td>\n",
       "      <td>0</td>\n",
       "      <td>0</td>\n",
       "      <td>0</td>\n",
       "      <td>0</td>\n",
       "      <td>0</td>\n",
       "    </tr>\n",
       "    <tr>\n",
       "      <th>4</th>\n",
       "      <td>1920</td>\n",
       "      <td>0</td>\n",
       "      <td>0</td>\n",
       "      <td>1516.108000</td>\n",
       "      <td>1478.004000</td>\n",
       "      <td>0.644171</td>\n",
       "      <td>45</td>\n",
       "      <td>0</td>\n",
       "      <td>1.0</td>\n",
       "      <td>45</td>\n",
       "      <td>...</td>\n",
       "      <td>0</td>\n",
       "      <td>0</td>\n",
       "      <td>0</td>\n",
       "      <td>0</td>\n",
       "      <td>0</td>\n",
       "      <td>0</td>\n",
       "      <td>0</td>\n",
       "      <td>0</td>\n",
       "      <td>0</td>\n",
       "      <td>0</td>\n",
       "    </tr>\n",
       "    <tr>\n",
       "      <th>...</th>\n",
       "      <td>...</td>\n",
       "      <td>...</td>\n",
       "      <td>...</td>\n",
       "      <td>...</td>\n",
       "      <td>...</td>\n",
       "      <td>...</td>\n",
       "      <td>...</td>\n",
       "      <td>...</td>\n",
       "      <td>...</td>\n",
       "      <td>...</td>\n",
       "      <td>...</td>\n",
       "      <td>...</td>\n",
       "      <td>...</td>\n",
       "      <td>...</td>\n",
       "      <td>...</td>\n",
       "      <td>...</td>\n",
       "      <td>...</td>\n",
       "      <td>...</td>\n",
       "      <td>...</td>\n",
       "      <td>...</td>\n",
       "      <td>...</td>\n",
       "    </tr>\n",
       "    <tr>\n",
       "      <th>16269</th>\n",
       "      <td>2018</td>\n",
       "      <td>0</td>\n",
       "      <td>1</td>\n",
       "      <td>1640.171960</td>\n",
       "      <td>1647.624483</td>\n",
       "      <td>0.582068</td>\n",
       "      <td>41</td>\n",
       "      <td>28</td>\n",
       "      <td>1.0</td>\n",
       "      <td>13</td>\n",
       "      <td>...</td>\n",
       "      <td>0</td>\n",
       "      <td>0</td>\n",
       "      <td>0</td>\n",
       "      <td>0</td>\n",
       "      <td>0</td>\n",
       "      <td>0</td>\n",
       "      <td>0</td>\n",
       "      <td>0</td>\n",
       "      <td>0</td>\n",
       "      <td>0</td>\n",
       "    </tr>\n",
       "    <tr>\n",
       "      <th>16270</th>\n",
       "      <td>2018</td>\n",
       "      <td>0</td>\n",
       "      <td>1</td>\n",
       "      <td>1669.105861</td>\n",
       "      <td>1633.114673</td>\n",
       "      <td>0.641378</td>\n",
       "      <td>20</td>\n",
       "      <td>14</td>\n",
       "      <td>1.0</td>\n",
       "      <td>6</td>\n",
       "      <td>...</td>\n",
       "      <td>0</td>\n",
       "      <td>0</td>\n",
       "      <td>0</td>\n",
       "      <td>0</td>\n",
       "      <td>0</td>\n",
       "      <td>0</td>\n",
       "      <td>0</td>\n",
       "      <td>0</td>\n",
       "      <td>0</td>\n",
       "      <td>0</td>\n",
       "    </tr>\n",
       "    <tr>\n",
       "      <th>16271</th>\n",
       "      <td>2018</td>\n",
       "      <td>0</td>\n",
       "      <td>1</td>\n",
       "      <td>1682.450194</td>\n",
       "      <td>1648.424105</td>\n",
       "      <td>0.638772</td>\n",
       "      <td>23</td>\n",
       "      <td>26</td>\n",
       "      <td>0.0</td>\n",
       "      <td>3</td>\n",
       "      <td>...</td>\n",
       "      <td>0</td>\n",
       "      <td>0</td>\n",
       "      <td>0</td>\n",
       "      <td>0</td>\n",
       "      <td>0</td>\n",
       "      <td>0</td>\n",
       "      <td>0</td>\n",
       "      <td>0</td>\n",
       "      <td>0</td>\n",
       "      <td>0</td>\n",
       "    </tr>\n",
       "    <tr>\n",
       "      <th>16272</th>\n",
       "      <td>2018</td>\n",
       "      <td>0</td>\n",
       "      <td>1</td>\n",
       "      <td>1675.286412</td>\n",
       "      <td>1661.668566</td>\n",
       "      <td>0.611248</td>\n",
       "      <td>31</td>\n",
       "      <td>37</td>\n",
       "      <td>0.0</td>\n",
       "      <td>6</td>\n",
       "      <td>...</td>\n",
       "      <td>0</td>\n",
       "      <td>0</td>\n",
       "      <td>0</td>\n",
       "      <td>0</td>\n",
       "      <td>0</td>\n",
       "      <td>0</td>\n",
       "      <td>0</td>\n",
       "      <td>0</td>\n",
       "      <td>0</td>\n",
       "      <td>0</td>\n",
       "    </tr>\n",
       "    <tr>\n",
       "      <th>16273</th>\n",
       "      <td>2018</td>\n",
       "      <td>1</td>\n",
       "      <td>1</td>\n",
       "      <td>1666.969395</td>\n",
       "      <td>1686.338837</td>\n",
       "      <td>0.472154</td>\n",
       "      <td>3</td>\n",
       "      <td>13</td>\n",
       "      <td>0.0</td>\n",
       "      <td>10</td>\n",
       "      <td>...</td>\n",
       "      <td>0</td>\n",
       "      <td>0</td>\n",
       "      <td>0</td>\n",
       "      <td>0</td>\n",
       "      <td>0</td>\n",
       "      <td>0</td>\n",
       "      <td>0</td>\n",
       "      <td>0</td>\n",
       "      <td>0</td>\n",
       "      <td>0</td>\n",
       "    </tr>\n",
       "  </tbody>\n",
       "</table>\n",
       "<p>16274 rows × 219 columns</p>\n",
       "</div>"
      ],
      "text/plain": [
       "       season  neutral  playoff         elo1         elo2  elo_prob1  score1  \\\n",
       "0        1920        0        0  1503.947000  1300.000000   0.824651      48   \n",
       "1        1920        0        0  1503.420000  1300.000000   0.824212      43   \n",
       "2        1920        0        0  1503.420000  1300.000000   0.824212      10   \n",
       "3        1920        0        0  1493.002000  1504.908000   0.575819      14   \n",
       "4        1920        0        0  1516.108000  1478.004000   0.644171      45   \n",
       "...       ...      ...      ...          ...          ...        ...     ...   \n",
       "16269    2018        0        1  1640.171960  1647.624483   0.582068      41   \n",
       "16270    2018        0        1  1669.105861  1633.114673   0.641378      20   \n",
       "16271    2018        0        1  1682.450194  1648.424105   0.638772      23   \n",
       "16272    2018        0        1  1675.286412  1661.668566   0.611248      31   \n",
       "16273    2018        1        1  1666.969395  1686.338837   0.472154       3   \n",
       "\n",
       "       score2  result1  score_diff  ...  team2_THO  team2_TLM  team2_TOL  \\\n",
       "0           0      1.0          48  ...          0          0          0   \n",
       "1           0      1.0          43  ...          0          0          0   \n",
       "2           0      1.0          10  ...          0          0          0   \n",
       "3           0      1.0          14  ...          0          0          0   \n",
       "4           0      1.0          45  ...          0          0          0   \n",
       "...       ...      ...         ...  ...        ...        ...        ...   \n",
       "16269      28      1.0          13  ...          0          0          0   \n",
       "16270      14      1.0           6  ...          0          0          0   \n",
       "16271      26      0.0           3  ...          0          0          0   \n",
       "16272      37      0.0           6  ...          0          0          0   \n",
       "16273      13      0.0          10  ...          0          0          0   \n",
       "\n",
       "       team2_TON  team2_TOR  team2_UTI  team2_WBU  team2_WHE  team2_WJA  \\\n",
       "0              0          0          0          0          0          0   \n",
       "1              0          0          0          0          1          0   \n",
       "2              0          0          0          0          0          0   \n",
       "3              0          0          0          0          0          0   \n",
       "4              0          0          0          0          0          0   \n",
       "...          ...        ...        ...        ...        ...        ...   \n",
       "16269          0          0          0          0          0          0   \n",
       "16270          0          0          0          0          0          0   \n",
       "16271          0          0          0          0          0          0   \n",
       "16272          0          0          0          0          0          0   \n",
       "16273          0          0          0          0          0          0   \n",
       "\n",
       "       team2_WSH  \n",
       "0              0  \n",
       "1              0  \n",
       "2              0  \n",
       "3              0  \n",
       "4              0  \n",
       "...          ...  \n",
       "16269          0  \n",
       "16270          0  \n",
       "16271          0  \n",
       "16272          0  \n",
       "16273          0  \n",
       "\n",
       "[16274 rows x 219 columns]"
      ]
     },
     "execution_count": 73,
     "metadata": {},
     "output_type": "execute_result"
    }
   ],
   "source": [
    "#Onehot encoding here\n",
    "df = pd.get_dummies(df, columns = ['team1'], prefix='team1')\n",
    "df = pd.get_dummies(df, columns = ['team2'], prefix='team2')\n",
    "\n",
    "df = df.drop('date', axis = 1)\n",
    "df"
   ]
  },
  {
   "cell_type": "code",
   "execution_count": 74,
   "metadata": {},
   "outputs": [
    {
     "data": {
      "text/plain": [
       "RandomForestRegressor()"
      ]
     },
     "execution_count": 74,
     "metadata": {},
     "output_type": "execute_result"
    }
   ],
   "source": [
    "#Train random forest here. I used n_estimators=100 since its the default value\n",
    "Forest = RandomForestRegressor(n_estimators=100)\n",
    "x = df.drop(['score1', 'score2'], axis = 1)\n",
    "y = df[['score1', 'score2']]\n",
    "\n",
    "x_train, x_test, y_train, y_test = train_test_split(x,y, test_size = 0.25)\n",
    "\n",
    "Forest.fit(x_train, y_train)"
   ]
  },
  {
   "cell_type": "code",
   "execution_count": 75,
   "metadata": {},
   "outputs": [
    {
     "data": {
      "text/plain": [
       "array([[13.46, 24.  ],\n",
       "       [13.91, 23.79],\n",
       "       [26.34, 12.04],\n",
       "       ...,\n",
       "       [11.45, 40.07],\n",
       "       [19.53, 21.5 ],\n",
       "       [16.19, 23.87]])"
      ]
     },
     "execution_count": 75,
     "metadata": {},
     "output_type": "execute_result"
    }
   ],
   "source": [
    "y_prediction = Forest.predict(x_test)\n",
    "y_prediction"
   ]
  },
  {
   "cell_type": "markdown",
   "metadata": {},
   "source": [
    "For the analysis of the regression model, I wanted to find the root mean-square error and the r2 value. the rmse would give me an idea of how far off each of the numbers were on average, and r2 would allow me to see an overall picture of the fit of this model with the test data. Feature importances was also used in order to look at the effects of each feature on the outcome of the model predictions."
   ]
  },
  {
   "cell_type": "code",
   "execution_count": 76,
   "metadata": {},
   "outputs": [
    {
     "name": "stdout",
     "output_type": "stream",
     "text": [
      "the rmse is:\n",
      "7.123339129847079\n",
      "the r2 value is:\n",
      "0.582098736788313\n"
     ]
    },
    {
     "data": {
      "text/plain": [
       "<BarContainer object of 217 artists>"
      ]
     },
     "execution_count": 76,
     "metadata": {},
     "output_type": "execute_result"
    },
    {
     "data": {
      "image/png": "[encoded data removed]",
      "text/plain": [
       "<Figure size 432x288 with 1 Axes>"
      ]
     },
     "metadata": {
      "needs_background": "light"
     },
     "output_type": "display_data"
    }
   ],
   "source": [
    "mse = mean_squared_error(y_test, y_prediction)\n",
    "rmse = np.sqrt(mse)\n",
    "print('the rmse is:')\n",
    "print(rmse)\n",
    "r2 = r2_score(y_test, y_prediction)\n",
    "print('the r2 value is:')\n",
    "print(r2)\n",
    "\n",
    "importance = Forest.feature_importances_\n",
    "plt.bar([x for x in range(len(importance))], importance)"
   ]
  },
  {
   "cell_type": "markdown",
   "metadata": {},
   "source": [
    "In this first attempt, there appears to be significant weighting on the earlier features of the dataset, indicating that the onehot encoded team names did not seem to be largely useful. In the next test of the random forest model, I will use the earlier version of the dataset that I made without team names. "
   ]
  },
  {
   "cell_type": "code",
   "execution_count": 77,
   "metadata": {},
   "outputs": [
    {
     "data": {
      "text/plain": [
       "RandomForestRegressor()"
      ]
     },
     "execution_count": 77,
     "metadata": {},
     "output_type": "execute_result"
    }
   ],
   "source": [
    "x2 = df_noteams.drop(['score1', 'score2'], axis = 1)\n",
    "y2 = df_noteams[['score1', 'score2']]\n",
    "\n",
    "x2_train, x2_test, y2_train, y2_test = train_test_split(x2,y2, test_size = 0.25)\n",
    "Forest.fit(x2_train, y2_train)"
   ]
  },
  {
   "cell_type": "code",
   "execution_count": 78,
   "metadata": {},
   "outputs": [
    {
     "data": {
      "text/plain": [
       "array([[14.88, 25.08],\n",
       "       [20.11, 22.87],\n",
       "       [18.43, 15.92],\n",
       "       ...,\n",
       "       [31.88, 13.58],\n",
       "       [19.37, 24.88],\n",
       "       [10.68, 32.55]])"
      ]
     },
     "execution_count": 78,
     "metadata": {},
     "output_type": "execute_result"
    }
   ],
   "source": [
    "y2_prediction = Forest.predict(x2_test)\n",
    "y2_prediction"
   ]
  },
  {
   "cell_type": "code",
   "execution_count": 79,
   "metadata": {},
   "outputs": [
    {
     "name": "stdout",
     "output_type": "stream",
     "text": [
      "the rmse is:\n",
      "7.286263992695161\n",
      "the r2 value is:\n",
      "0.5642838145778164\n"
     ]
    },
    {
     "data": {
      "text/plain": [
       "<BarContainer object of 8 artists>"
      ]
     },
     "execution_count": 79,
     "metadata": {},
     "output_type": "execute_result"
    },
    {
     "data": {
      "image/png": "[encoded data removed]",
      "text/plain": [
       "<Figure size 432x288 with 1 Axes>"
      ]
     },
     "metadata": {
      "needs_background": "light"
     },
     "output_type": "display_data"
    }
   ],
   "source": [
    "mse = mean_squared_error(y2_test, y2_prediction)\n",
    "rmse = np.sqrt(mse)\n",
    "print('the rmse is:')\n",
    "print(rmse)\n",
    "r2 = r2_score(y2_test, y2_prediction)\n",
    "print('the r2 value is:')\n",
    "print(r2)\n",
    "\n",
    "importance = Forest.feature_importances_\n",
    "plt.bar([x for x in range(len(importance))], importance)"
   ]
  },
  {
   "cell_type": "markdown",
   "metadata": {},
   "source": [
    "Overall, the accuracy of the random forest model was low. I believe that this is due in part to the lower amount of feature engineering that I employed with this project, as there were certain features that I could not figure out how to implement (such as the game number). If more prominently useful engineered features were included in this dataset, then the accuracy of the random forest would surely increase. \n",
    "\n",
    "From the feature importance graphs, it seems as though year (feature 0), result (feature 6) and score difference (feature 7) all play a relatively large role in the teamless dataset."
   ]
  },
  {
   "cell_type": "markdown",
   "metadata": {},
   "source": [
    "The next model that I wanted to run was the Gradient Boosted Regressor (GBR) due to its high accuracy and similarity to the random forest model. In this attempt, I wanted to use the dataset with no teams, as the lower number of features would have surely cut down on computational time. "
   ]
  },
  {
   "cell_type": "code",
   "execution_count": 80,
   "metadata": {},
   "outputs": [
    {
     "data": {
      "text/plain": [
       "GradientBoostingRegressor()"
      ]
     },
     "execution_count": 80,
     "metadata": {},
     "output_type": "execute_result"
    }
   ],
   "source": [
    "#Train Gradient boosted regressor here\n",
    "#With the GBR, I needed to train two separate models in order to get each score, so for both models I will use the dataset without team names, as it will likely be less computationally expensive\n",
    "x1 = df_noteams.drop(['score1', 'score2'], axis = 1)\n",
    "y1 = df_noteams['score1']\n",
    "\n",
    "x1_train, x1_test, y1_train, y1_test = train_test_split(x1,y1, test_size = 0.25)\n",
    "\n",
    "grad = GradientBoostingRegressor()\n",
    "grad.fit(x1_train, y1_train)"
   ]
  },
  {
   "cell_type": "code",
   "execution_count": 81,
   "metadata": {},
   "outputs": [
    {
     "data": {
      "text/plain": [
       "array([24.94401087, 11.35762095, 23.50957745, ..., 10.3014384 ,\n",
       "       17.19983187, 26.77085722])"
      ]
     },
     "execution_count": 81,
     "metadata": {},
     "output_type": "execute_result"
    }
   ],
   "source": [
    "y1_prediction = grad.predict(x1_test)\n",
    "y1_prediction"
   ]
  },
  {
   "cell_type": "code",
   "execution_count": 82,
   "metadata": {},
   "outputs": [
    {
     "name": "stdout",
     "output_type": "stream",
     "text": [
      "the rmse is:\n",
      "6.868557728600411\n",
      "the r2 value is:\n",
      "0.6345984997683696\n"
     ]
    },
    {
     "data": {
      "text/plain": [
       "<BarContainer object of 8 artists>"
      ]
     },
     "execution_count": 82,
     "metadata": {},
     "output_type": "execute_result"
    },
    {
     "data": {
      "image/png": "[encoded data removed]",
      "text/plain": [
       "<Figure size 432x288 with 1 Axes>"
      ]
     },
     "metadata": {
      "needs_background": "light"
     },
     "output_type": "display_data"
    }
   ],
   "source": [
    "mse = mean_squared_error(y1_test, y1_prediction)\n",
    "rmse = np.sqrt(mse)\n",
    "print('the rmse is:')\n",
    "print(rmse)\n",
    "r2 = r2_score(y1_test, y1_prediction)\n",
    "print('the r2 value is:')\n",
    "print(r2)\n",
    "\n",
    "importance = grad.feature_importances_\n",
    "plt.bar([x for x in range(len(importance))], importance)"
   ]
  },
  {
   "cell_type": "code",
   "execution_count": 83,
   "metadata": {},
   "outputs": [
    {
     "data": {
      "text/plain": [
       "GradientBoostingRegressor()"
      ]
     },
     "execution_count": 83,
     "metadata": {},
     "output_type": "execute_result"
    }
   ],
   "source": [
    "x2 = df_noteams.drop(['score1', 'score2'], axis = 1)\n",
    "y2 = df_noteams['score2']\n",
    "\n",
    "x2_train, x2_test, y2_train, y2_test = train_test_split(x2,y2, test_size = 0.25)\n",
    "\n",
    "grad = GradientBoostingRegressor()\n",
    "grad.fit(x2_train, y2_train)"
   ]
  },
  {
   "cell_type": "code",
   "execution_count": 84,
   "metadata": {},
   "outputs": [
    {
     "data": {
      "text/plain": [
       "array([13.8784106 , 19.21730962, 10.38115361, ..., 22.54994567,\n",
       "       12.9409601 , 23.26129587])"
      ]
     },
     "execution_count": 84,
     "metadata": {},
     "output_type": "execute_result"
    }
   ],
   "source": [
    "y2_prediction = grad.predict(x2_test)\n",
    "y2_prediction"
   ]
  },
  {
   "cell_type": "code",
   "execution_count": 85,
   "metadata": {},
   "outputs": [
    {
     "name": "stdout",
     "output_type": "stream",
     "text": [
      "the rmse is:\n",
      "6.975880260769422\n",
      "the r2 value is:\n",
      "0.5848223424753853\n"
     ]
    },
    {
     "data": {
      "text/plain": [
       "<BarContainer object of 8 artists>"
      ]
     },
     "execution_count": 85,
     "metadata": {},
     "output_type": "execute_result"
    },
    {
     "data": {
      "image/png": "[encoded data removed]",
      "text/plain": [
       "<Figure size 432x288 with 1 Axes>"
      ]
     },
     "metadata": {
      "needs_background": "light"
     },
     "output_type": "display_data"
    }
   ],
   "source": [
    "mse = mean_squared_error(y2_test, y2_prediction)\n",
    "rmse = np.sqrt(mse)\n",
    "print('the rmse is:')\n",
    "print(rmse)\n",
    "r2 = r2_score(y2_test, y2_prediction)\n",
    "print('the r2 value is:')\n",
    "print(r2)\n",
    "\n",
    "importance = grad.feature_importances_\n",
    "plt.bar([x for x in range(len(importance))], importance)"
   ]
  },
  {
   "cell_type": "markdown",
   "metadata": {},
   "source": [
    "Overall, the gradient boost regressor model seems to be a bit more accurate in terms of the lower rmse and the higher r2 value. However, the model is still relatively inaccurate, as the rmse is relatively high. As said previously after the random forest runs, more engineered features that associate the scores with the other presented values (such as the elo score) would have likely provided more accuracy. As mentioned previously in the random forest conclusion, the season (feature 0),result (feature 6) and score difference (feature 7) all seem to more heavily relate to the final prediction than the elo scores or winning chance features."
   ]
  }
 ],
 "metadata": {
  "kernelspec": {
   "display_name": "Python 3",
   "language": "python",
   "name": "python3"
  },
  "language_info": {
   "codemirror_mode": {
    "name": "ipython",
    "version": 3
   },
   "file_extension": ".py",
   "mimetype": "text/x-python",
   "name": "python",
   "nbconvert_exporter": "python",
   "pygments_lexer": "ipython3",
   "version": "3.7.9"
  }
 },
 "nbformat": 4,
 "nbformat_minor": 4
}
